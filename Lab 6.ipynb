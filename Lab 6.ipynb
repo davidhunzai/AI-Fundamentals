{
 "cells": [
  {
   "cell_type": "code",
   "execution_count": null,
   "id": "a8671da3-90a5-4b08-8769-83a17a734948",
   "metadata": {},
   "outputs": [],
   "source": [
    "                                           #LAB 6"
   ]
  },
  {
   "cell_type": "code",
   "execution_count": 1,
   "id": "1dd5b626-ab83-43bb-9f82-e517cd5139fa",
   "metadata": {},
   "outputs": [
    {
     "name": "stdout",
     "output_type": "stream",
     "text": [
      "Area: 15\n",
      "Perimeter: 16\n"
     ]
    }
   ],
   "source": [
    "#Q 1\n",
    "class Rectangle:\n",
    "    \"\"\"A class representing a rectangle with length and width attributes.\"\"\"\n",
    "\n",
    "    def __init__(self, length, width):\n",
    "        \"\"\"Initializes a Rectangle object with given length and width.\n",
    "\n",
    "        Args:\n",
    "            length: The length of the rectangle.\n",
    "            width: The width of the rectangle.\n",
    "        \"\"\"\n",
    "        self.length = length\n",
    "        self.width = width\n",
    "\n",
    "    def area(self):\n",
    "        \"\"\"Calculates and returns the area of the rectangle.\n",
    "\n",
    "        Returns:\n",
    "            The area of the rectangle.\n",
    "        \"\"\"\n",
    "        return self.length * self.width\n",
    "\n",
    "    def perimeter(self):\n",
    "        \"\"\"Calculates and returns the perimeter of the rectangle.\n",
    "\n",
    "        Returns:\n",
    "            The perimeter of the rectangle.\n",
    "        \"\"\"\n",
    "        return 2 * (self.length + self.width)\n",
    "\n",
    "\n",
    "rect = Rectangle(5, 3)\n",
    "print(\"Area:\", rect.area())\n",
    "print(\"Perimeter:\", rect.perimeter())"
   ]
  },
  {
   "cell_type": "code",
   "execution_count": 11,
   "id": "09dce9bf-d5cd-4bfa-8972-42b9a5e6faa0",
   "metadata": {},
   "outputs": [
    {
     "name": "stdout",
     "output_type": "stream",
     "text": [
      "Buddy says Woof!\n",
      "Whiskers says Meow!\n",
      "Tweety says Chirp!\n",
      "Buddy is fetching the ball.\n",
      "Whiskers is scratching the furniture.\n",
      "Tweety is flying high in the sky.\n"
     ]
    }
   ],
   "source": [
    "#Q 2\n",
    "# Base class\n",
    "class Animal:\n",
    "    def __init__(self, name):\n",
    "        self.name = name\n",
    "    \n",
    "    def speak(self):\n",
    "        raise NotImplementedError(\"Subclass must implement abstract method\")\n",
    "\n",
    "# Derived class Dog\n",
    "class Dog(Animal):\n",
    "    def speak(self):\n",
    "        return f\"{self.name} says Woof!\"\n",
    "\n",
    "    def fetch(self):\n",
    "        return f\"{self.name} is fetching the ball.\"\n",
    "\n",
    "# Derived class Cat\n",
    "class Cat(Animal):\n",
    "    def speak(self):\n",
    "        return f\"{self.name} says Meow!\"\n",
    "\n",
    "    def scratch(self):\n",
    "        return f\"{self.name} is scratching the furniture.\"\n",
    "\n",
    "class Bird(Animal):\n",
    "    def speak(self):\n",
    "        return f\"{self.name} says Chirp!\"\n",
    "\n",
    "    def fly(self):\n",
    "        return f\"{self.name} is flying high in the sky.\"\n",
    "\n",
    "dog = Dog(\"Buddy\")\n",
    "cat = Cat(\"Whiskers\")\n",
    "bird = Bird(\"Tweety\")\n",
    "\n",
    "animals = [dog, cat, bird]\n",
    "\n",
    "for animal in animals:\n",
    "    print(animal.speak())\n",
    "\n",
    "print(dog.fetch())\n",
    "print(cat.scratch())\n",
    "print(bird.fly())"
   ]
  },
  {
   "cell_type": "code",
   "execution_count": 13,
   "id": "0b75ecb8-4a72-4911-914d-bdf0f35e70b2",
   "metadata": {},
   "outputs": [
    {
     "name": "stdout",
     "output_type": "stream",
     "text": [
      "The area of the rectangle is: 15\n",
      "The area of the circle is: 50.26548245743669\n"
     ]
    }
   ],
   "source": [
    "import math\n",
    "\n",
    "class Shape:\n",
    "    def area(self):\n",
    "        raise NotImplementedError(\"Subclass must implement abstract method\")\n",
    "\n",
    "class Rectangle(Shape):\n",
    "    def __init__(self, width, height):\n",
    "        self.width = width\n",
    "        self.height = height\n",
    "    \n",
    "    def area(self):\n",
    "        return self.width * self.height\n",
    "\n",
    "class Circle(Shape):\n",
    "    def __init__(self, radius):\n",
    "        self.radius = radius\n",
    "    \n",
    "    def area(self):\n",
    "        return math.pi * (self.radius ** 2)\n",
    "\n",
    "rectangle = Rectangle(5, 3)\n",
    "circle = Circle(4)\n",
    "\n",
    "print(f\"The area of the rectangle is: {rectangle.area()}\")\n",
    "print(f\"The area of the circle is: {circle.area()}\")"
   ]
  },
  {
   "cell_type": "code",
   "execution_count": null,
   "id": "d48de8d2-9a61-41f9-accc-8e6b5d52daab",
   "metadata": {},
   "outputs": [],
   "source": []
  }
 ],
 "metadata": {
  "kernelspec": {
   "display_name": "Python 3 (ipykernel)",
   "language": "python",
   "name": "python3"
  },
  "language_info": {
   "codemirror_mode": {
    "name": "ipython",
    "version": 3
   },
   "file_extension": ".py",
   "mimetype": "text/x-python",
   "name": "python",
   "nbconvert_exporter": "python",
   "pygments_lexer": "ipython3",
   "version": "3.11.7"
  }
 },
 "nbformat": 4,
 "nbformat_minor": 5
}
