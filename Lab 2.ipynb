{
 "cells": [
  {
   "cell_type": "code",
   "execution_count": null,
   "id": "f4995149-956f-4b2c-acd1-f39e11534f7e",
   "metadata": {},
   "outputs": [],
   "source": [
    "                                                        #LAB 2"
   ]
  },
  {
   "cell_type": "code",
   "execution_count": 1,
   "id": "a4e10179-b07b-4bd3-bab6-b201716aa621",
   "metadata": {},
   "outputs": [
    {
     "data": {
      "text/plain": [
       "-48"
      ]
     },
     "execution_count": 1,
     "metadata": {},
     "output_type": "execute_result"
    }
   ],
   "source": [
    "6* -----------8"
   ]
  },
  {
   "cell_type": "code",
   "execution_count": 2,
   "id": "c31adc6c-de87-4fd6-bae6-d9000e11d4a2",
   "metadata": {},
   "outputs": [
    {
     "data": {
      "text/plain": [
       "64"
      ]
     },
     "execution_count": 2,
     "metadata": {},
     "output_type": "execute_result"
    }
   ],
   "source": [
    "((((4 ** 3))))"
   ]
  },
  {
   "cell_type": "code",
   "execution_count": 3,
   "id": "f84f6e64-5ac0-4438-a06c-b82c3eede102",
   "metadata": {},
   "outputs": [
    {
     "data": {
      "text/plain": [
       "5"
      ]
     },
     "execution_count": 3,
     "metadata": {},
     "output_type": "execute_result"
    }
   ],
   "source": [
    "(-(-(-(-5))))"
   ]
  },
  {
   "cell_type": "code",
   "execution_count": 4,
   "id": "5fd940a9-d2ec-4c82-bf47-283d2658f954",
   "metadata": {},
   "outputs": [
    {
     "ename": "SyntaxError",
     "evalue": "'literal' is an illegal expression for augmented assignment (3202540999.py, line 1)",
     "output_type": "error",
     "traceback": [
      "\u001b[1;36m  Cell \u001b[1;32mIn[4], line 1\u001b[1;36m\u001b[0m\n\u001b[1;33m    4+=7/2\u001b[0m\n\u001b[1;37m    ^\u001b[0m\n\u001b[1;31mSyntaxError\u001b[0m\u001b[1;31m:\u001b[0m 'literal' is an illegal expression for augmented assignment\n"
     ]
    }
   ],
   "source": [
    "4+=7/2"
   ]
  },
  {
   "cell_type": "code",
   "execution_count": 1,
   "id": "60b5f78f-64d9-477b-809a-1f457b65d2be",
   "metadata": {},
   "outputs": [
    {
     "name": "stdout",
     "output_type": "stream",
     "text": [
      "number\tsquare\tcube\n",
      "0\t0\t0\n",
      "1\t1\t1\n",
      "2\t4\t8\n",
      "3\t9\t27\n",
      "4\t16\t64\n",
      "5\t25\t125\n",
      "6\t36\t216\n",
      "7\t49\t343\n",
      "8\t64\t512\n",
      "9\t81\t729\n",
      "10\t100\t1000\n"
     ]
    }
   ],
   "source": [
    "print(\"number\\tsquare\\tcube\")\n",
    "x=0\n",
    "while x<=10:\n",
    "    print(f\"{x}\\t{x**2}\\t{x**3}\")\n",
    "    x+=1"
   ]
  },
  {
   "cell_type": "code",
   "execution_count": 3,
   "id": "602f60d9-725f-49d8-b517-6514536bc6f4",
   "metadata": {},
   "outputs": [
    {
     "name": "stdout",
     "output_type": "stream",
     "text": [
      "7 5\n"
     ]
    }
   ],
   "source": [
    "p,q=5,7\n",
    "p=int(p*q)\n",
    "q=int(p/q)\n",
    "p=int(p/q)\n",
    "print(p,q)"
   ]
  },
  {
   "cell_type": "code",
   "execution_count": 9,
   "id": "cf745606-2223-4ce3-8533-8ad0d99c0705",
   "metadata": {},
   "outputs": [
    {
     "name": "stdin",
     "output_type": "stream",
     "text": [
      "enter one numbers:  2\n",
      "enter two numbers:  3\n"
     ]
    },
    {
     "name": "stdout",
     "output_type": "stream",
     "text": [
      "the sum is 5\n",
      "the product is 6\n",
      "the difference is -1\n",
      "the quotient is 0\n",
      "the modulus is 2\n"
     ]
    }
   ],
   "source": [
    "num1=input(\"enter one numbers: \")\n",
    "num2=input(\"enter two numbers: \")\n",
    "num1=int(num1)\n",
    "num2 =int(num2)\n",
    "print(\"the sum is\",num1+num2)\n",
    "print(\"the product is\",num1*num2)\n",
    "print(\"the difference is\",num1-num2)\n",
    "print(\"the quotient is\", num1//num2)\n",
    "print(\"the modulus is\",num1%num2)"
   ]
  },
  {
   "cell_type": "code",
   "execution_count": 10,
   "id": "2ef6d10a-357d-4a12-a6f4-4a12eb33015d",
   "metadata": {},
   "outputs": [
    {
     "name": "stdin",
     "output_type": "stream",
     "text": [
      "enter the radius: 9\n"
     ]
    },
    {
     "name": "stdout",
     "output_type": "stream",
     "text": [
      "the diameter is 18\n",
      "the circumference is 56.54862\n",
      "the area is 254.46878999999998\n"
     ]
    }
   ],
   "source": [
    "radius=int(input(\"enter the radius:\"))\n",
    "print(\"the diameter is\", 2*radius)\n",
    "print(\"the circumference is\", 2*3.14159*radius)\n",
    "print(\"the area is\", 3.14159*radius**2)"
   ]
  },
  {
   "cell_type": "code",
   "execution_count": 13,
   "id": "640372e4-2fa2-43a8-a339-6515e4f9a22a",
   "metadata": {},
   "outputs": [
    {
     "name": "stdin",
     "output_type": "stream",
     "text": [
      "enter a number: 12367\n"
     ]
    },
    {
     "name": "stdout",
     "output_type": "stream",
     "text": [
      "76321\n"
     ]
    }
   ],
   "source": [
    "num=int(input(\"enter a number:\"))\n",
    "p1=num%10\n",
    "p2=(num%100)//10\n",
    "p3=(num%1000)//100\n",
    "p4=(num%10000)//1000\n",
    "p5=num//10000\n",
    "print(p1,p2,p3,p4,p5,sep=\"\")  "
   ]
  },
  {
   "cell_type": "code",
   "execution_count": 2,
   "id": "a899a760-45a3-4234-bb73-5cf4986f5be3",
   "metadata": {},
   "outputs": [
    {
     "name": "stdout",
     "output_type": "stream",
     "text": [
      "*********\t   ***    \t  *  \t    *\n",
      "*       *\t  *  *  \t  ***  \t   *  *\n",
      "*       *\t *     *\t ***** \t  *    *\n",
      "*       *\t *     *\t   *   \t *      *\n",
      "*       *\t *     *\t   *   \t*        *\n",
      "*       *\t *     *\t   *   \t *      *\n",
      "*       *\t *     * \t   *   \t  *    *\n",
      "*       *\t *    * \t   *   \t   *  *\n",
      "*********\t  ***   \t   *   \t    *\n",
      "\n"
     ]
    }
   ],
   "source": [
    "print('''*********\\t   ***    \\t  *  \\t    *\n",
    "*       *\\t  *  *  \\t  ***  \\t   *  *\n",
    "*       *\\t *     *\\t ***** \\t  *    *\n",
    "*       *\\t *     *\\t   *   \\t *      *\n",
    "*       *\\t *     *\\t   *   \\t*        *\n",
    "*       *\\t *     *\\t   *   \\t *      *\n",
    "*       *\\t *     * \\t   *   \\t  *    *\n",
    "*       *\\t *    * \\t   *   \\t   *  *\n",
    "*********\\t  ***   \\t   *   \\t    *\n",
    "''')"
   ]
  },
  {
   "cell_type": "code",
   "execution_count": 3,
   "id": "cc1e0a29-9e34-4d29-b936-b6902ccb00fd",
   "metadata": {},
   "outputs": [
    {
     "name": "stdin",
     "output_type": "stream",
     "text": [
      "Enter three integers:  3 4 5\n"
     ]
    },
    {
     "name": "stdout",
     "output_type": "stream",
     "text": [
      "The three integers are the sides of a right triangle\n"
     ]
    }
   ],
   "source": [
    "def is_right_triangle(sides):\n",
    "    # Check all combinations where each side is considered the hypotenuse\n",
    "    for i in range(3):\n",
    "        a = sides[i]\n",
    "        b = sides[(i+1)%3]\n",
    "        c = sides[(i+2)%3]\n",
    "        if a**2 + b**2 == c**2:\n",
    "            return True\n",
    "    return False\n",
    "\n",
    "def main():\n",
    "    input_str = input(\"Enter three integers: \")\n",
    "    \n",
    "    try:\n",
    "        sides = list(map(int, input_str.strip().split()))\n",
    "        if len(sides) != 3:\n",
    "            print(\"Please enter exactly three integers.\")\n",
    "            return\n",
    "        if 0 in sides:\n",
    "            print(\"The integers must be nonzero.\")\n",
    "            return\n",
    "        if is_right_triangle(sides):\n",
    "            print(\"The three integers are the sides of a right triangle\")\n",
    "        else:\n",
    "            print(\"The three integers are not the sides of a right triangle\")\n",
    "    except ValueError:\n",
    "        print(\"Please enter valid integers.\")\n",
    "\n",
    "if __name__ == \"__main__\":\n",
    "    main()"
   ]
  },
  {
   "cell_type": "code",
   "execution_count": 5,
   "id": "e8b00783-d9d6-4d7f-ace0-c1f47e39ac92",
   "metadata": {},
   "outputs": [
    {
     "name": "stdin",
     "output_type": "stream",
     "text": [
      "Enter three integers:  9 4 1\n"
     ]
    },
    {
     "name": "stdout",
     "output_type": "stream",
     "text": [
      "The three integers are not the sides of a right triangle\n"
     ]
    }
   ],
   "source": [
    "def is_right_triangle(sides):\n",
    "    # Check all combinations where each side is considered the hypotenuse\n",
    "    for i in range(3):\n",
    "        a = sides[i]\n",
    "        b = sides[(i+1)%3]\n",
    "        c = sides[(i+2)%3]\n",
    "        if a**2 + b**2 == c**2:\n",
    "            return True\n",
    "    return False\n",
    "\n",
    "def main():\n",
    "    input_str = input(\"Enter three integers: \")\n",
    "    \n",
    "    try:\n",
    "        sides = list(map(int, input_str.strip().split()))\n",
    "        if len(sides) != 3:\n",
    "            print(\"Please enter exactly three integers.\")\n",
    "            return\n",
    "        if 0 in sides:\n",
    "            print(\"The integers must be nonzero.\")\n",
    "            return\n",
    "        if is_right_triangle(sides):\n",
    "            print(\"The three integers are the sides of a right triangle\")\n",
    "        else:\n",
    "            print(\"The three integers are not the sides of a right triangle\")\n",
    "    except ValueError:\n",
    "        print(\"Please enter valid integers.\")\n",
    "\n",
    "if __name__ == \"__main__\":\n",
    "    main()"
   ]
  },
  {
   "cell_type": "code",
   "execution_count": 9,
   "id": "04d3cfc4-7d88-4200-9c13-d2925be9c9d0",
   "metadata": {},
   "outputs": [
    {
     "name": "stdin",
     "output_type": "stream",
     "text": [
      "Enter score:  0.0 1.0\n"
     ]
    },
    {
     "name": "stdout",
     "output_type": "stream",
     "text": [
      "Bad score\n"
     ]
    }
   ],
   "source": [
    "def get_grade(score):\n",
    "    if score >= 0.9:\n",
    "        return \"A\"\n",
    "    elif score >= 0.8:\n",
    "        return \"B\"\n",
    "    elif score >= 0.7:\n",
    "        return \"C\"\n",
    "    elif score >= 0.6:\n",
    "        return \"D\"\n",
    "    elif score < 0.6:\n",
    "        return \"F\"\n",
    "\n",
    "def main():\n",
    "    \n",
    "    score_input = input(\"Enter score: \")\n",
    "    \n",
    "    try:\n",
    "      \n",
    "        score = float(score_input)\n",
    "        \n",
    "        \n",
    "        if 0.0 <= score <= 1.0:\n",
    "            \n",
    "            grade = get_grade(score)\n",
    "            print(grade)\n",
    "        else:\n",
    "            print(\"Bad score\")\n",
    "    except ValueError:\n",
    "       \n",
    "        print(\"Bad score\")\n",
    "\n",
    "if __name__ == \"__main__\":\n",
    "    main()"
   ]
  },
  {
   "cell_type": "code",
   "execution_count": 11,
   "id": "ab390035-a2fe-43f1-8496-feaa346e69c9",
   "metadata": {},
   "outputs": [
    {
     "name": "stdin",
     "output_type": "stream",
     "text": [
      "Enter the hour (1-12):  8\n",
      "Enter am or pm:  am\n",
      "How many hours into the future?  5\n"
     ]
    },
    {
     "name": "stdout",
     "output_type": "stream",
     "text": [
      "In 5 hours, it will be 1 pm.\n"
     ]
    }
   ],
   "source": [
    "def get_future_time(hour, period, hours_ahead):\n",
    "    # Calculate the new hour\n",
    "    total_hours = hour + hours_ahead\n",
    "    future_hour = total_hours % 12\n",
    " \n",
    "    if future_hour == 0:\n",
    "        future_hour = 12\n",
    "\n",
    "    periods_passed = (hour + hours_ahead) // 12\n",
    " \n",
    "    if periods_passed % 2 == 1:\n",
    "        future_period = \"pm\" if period == \"am\" else \"am\"\n",
    "    else:\n",
    "        future_period = period\n",
    "    \n",
    "    return future_hour, future_period\n",
    "\n",
    "def main():\n",
    "    \n",
    "    try:\n",
    "        hour = int(input(\"Enter the hour (1-12): \"))\n",
    "        if hour < 1 or hour > 12:\n",
    "            print(\"Hour must be between 1 and 12.\")\n",
    "            return\n",
    "        \n",
    "        # Get the period (am/pm) from the user\n",
    "        period = input(\"Enter am or pm: \").strip().lower()\n",
    "        if period not in (\"am\", \"pm\"):\n",
    "            print(\"Invalid period. Please enter 'am' or 'pm'.\")\n",
    "            return\n",
    "        \n",
    "        # Get the number of hours into the future from the user\n",
    "        hours_ahead = int(input(\"How many hours into the future? \"))\n",
    "        \n",
    "        # Calculate the future time\n",
    "        future_hour, future_period = get_future_time(hour, period, hours_ahead)\n",
    "        \n",
    "        # Print the result\n",
    "        print(f\"In {hours_ahead} hours, it will be {future_hour} {future_period}.\")\n",
    "    \n",
    "    except ValueError:\n",
    "        print(\"Please enter a valid number.\")\n",
    "\n",
    "if __name__ == \"__main__\":\n",
    "    main()"
   ]
  },
  {
   "cell_type": "code",
   "execution_count": 15,
   "id": "3ec82eee-f4c7-423e-9f87-7d7130b47629",
   "metadata": {},
   "outputs": [
    {
     "name": "stdin",
     "output_type": "stream",
     "text": [
      "Enter a five-digit integer:  18181\n"
     ]
    },
    {
     "name": "stdout",
     "output_type": "stream",
     "text": [
      "18181 is a palindrome.\n"
     ]
    }
   ],
   "source": [
    "def is_palindrome(number):\n",
    "    # Convert the number to a string to easily check if it reads the same forward and backward\n",
    "    number_str = str(number)\n",
    "    # Compare the string with its reverse\n",
    "    return number_str == number_str[::-1]\n",
    "\n",
    "def main():\n",
    "    try:\n",
    "        # Read a five-digit integer from the user\n",
    "        number = int(input(\"Enter a five-digit integer: \"))\n",
    "        \n",
    "        # Check if the number is a five-digit integer\n",
    "        if 10000 <= number <= 99999:\n",
    "            # Determine if it is a palindrome\n",
    "            if is_palindrome(number):\n",
    "                print(f\"{number} is a palindrome.\")\n",
    "            else:\n",
    "                print(f\"{number} is not a palindrome.\")\n",
    "        else:\n",
    "            print(\"Please enter a valid five-digit integer.\")\n",
    "    except ValueError:\n",
    "        print(\"Invalid input. Please enter a five-digit integer.\")\n",
    "\n",
    "if __name__ == \"__main__\":\n",
    "    main()"
   ]
  },
  {
   "cell_type": "code",
   "execution_count": 19,
   "id": "2ca261a0-0e58-4d34-9dff-fc4e3a954730",
   "metadata": {},
   "outputs": [
    {
     "name": "stdin",
     "output_type": "stream",
     "text": [
      "Enter a five-digit integer:  16738\n"
     ]
    },
    {
     "name": "stdout",
     "output_type": "stream",
     "text": [
      "16738 is not a palindrome.\n"
     ]
    }
   ],
   "source": [
    "def is_palindrome(number):\n",
    "    # Convert the number to a string to easily check if it reads the same forward and backward\n",
    "    number_str = str(number)\n",
    "    # Compare the string with its reverse\n",
    "    return number_str == number_str[::-1]\n",
    "\n",
    "def main():\n",
    "    try:\n",
    "        # Read a five-digit integer from the user\n",
    "        number = int(input(\"Enter a five-digit integer: \"))\n",
    "        \n",
    "        # Check if the number is a five-digit integer\n",
    "        if 10000 <= number <= 99999:\n",
    "            # Determine if it is a palindrome\n",
    "            if is_palindrome(number):\n",
    "                print(f\"{number} is a palindrome.\")\n",
    "            else:\n",
    "                print(f\"{number} is not a palindrome.\")\n",
    "        else:\n",
    "            print(\"Please enter a valid five-digit integer.\")\n",
    "    except ValueError:\n",
    "        print(\"Invalid input. Please enter a five-digit integer.\")\n",
    "\n",
    "if __name__ == \"__main__\":\n",
    "    main()"
   ]
  },
  {
   "cell_type": "code",
   "execution_count": null,
   "id": "ee544341-7a29-4e91-9f51-d2a715db8f5d",
   "metadata": {},
   "outputs": [],
   "source": []
  }
 ],
 "metadata": {
  "kernelspec": {
   "display_name": "Python 3 (ipykernel)",
   "language": "python",
   "name": "python3"
  },
  "language_info": {
   "codemirror_mode": {
    "name": "ipython",
    "version": 3
   },
   "file_extension": ".py",
   "mimetype": "text/x-python",
   "name": "python",
   "nbconvert_exporter": "python",
   "pygments_lexer": "ipython3",
   "version": "3.11.7"
  }
 },
 "nbformat": 4,
 "nbformat_minor": 5
}
