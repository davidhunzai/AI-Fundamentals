{
 "cells": [
  {
   "cell_type": "code",
   "execution_count": null,
   "id": "73dcad07-f291-4d4a-b67c-3295648f6d60",
   "metadata": {},
   "outputs": [],
   "source": [
    "                                                             #LAB 5"
   ]
  },
  {
   "cell_type": "code",
   "execution_count": 1,
   "id": "4deb4222-7e29-433e-9678-994751d56877",
   "metadata": {},
   "outputs": [
    {
     "name": "stdin",
     "output_type": "stream",
     "text": [
      "Enter a line of text:  i am a programer\n"
     ]
    },
    {
     "name": "stdout",
     "output_type": "stream",
     "text": [
      "Text in uppercase: I AM A PROGRAMER\n",
      "Text in lowercase: i am a programer\n"
     ]
    }
   ],
   "source": [
    "#Q 1\n",
    "text = input(\"Enter a line of text: \")\n",
    "uppercase_text = text.upper()\n",
    "lowercase_text = text.lower()\n",
    "print(\"Text in uppercase:\", uppercase_text)\n",
    "print(\"Text in lowercase:\", lowercase_text)"
   ]
  },
  {
   "cell_type": "code",
   "execution_count": 3,
   "id": "81615a0b-07d9-4a5b-b918-ce29f8c7f51f",
   "metadata": {},
   "outputs": [
    {
     "name": "stdin",
     "output_type": "stream",
     "text": [
      "Enter a string:  \"how are you\"\n"
     ]
    },
    {
     "name": "stdout",
     "output_type": "stream",
     "text": [
      "Estimated number of words: 3\n"
     ]
    }
   ],
   "source": [
    "#Q 2\n",
    "text = input(\"Enter a string: \")\n",
    "space_count = text.count(' ')\n",
    "word_estimate = space_count + 1\n",
    "print(\"Estimated number of words:\", word_estimate)"
   ]
  },
  {
   "cell_type": "code",
   "execution_count": 7,
   "id": "bf033a82-91b0-48b0-8f2a-c601e89282a9",
   "metadata": {},
   "outputs": [
    {
     "name": "stdin",
     "output_type": "stream",
     "text": [
      "Enter a string:  \"Hey What's Up\"\n"
     ]
    },
    {
     "name": "stdout",
     "output_type": "stream",
     "text": [
      "\"hey what's up\"\n"
     ]
    }
   ],
   "source": [
    "#Q 3\n",
    "s = input(\"Enter a string: \")\n",
    "s = s.lower()\n",
    "s = s.replace('.', '').replace(',', '')\n",
    "print(s)"
   ]
  },
  {
   "cell_type": "code",
   "execution_count": 9,
   "id": "c563b74c-5c14-4871-8398-740d29d184da",
   "metadata": {},
   "outputs": [
    {
     "name": "stdout",
     "output_type": "stream",
     "text": [
      "[1830, 2314, 2956, 3900, 4353, 4499, 5566, 9362]\n"
     ]
    }
   ],
   "source": [
    "#Q 4\n",
    "ids = [4353, 2314, 2956, 3382, 9362, 3900]\n",
    "\n",
    "ids.remove(3382)\n",
    "\n",
    "index_of_9362 = ids.index(9362)\n",
    "\n",
    "ids.insert(index_of_9362 + 1, 4499)\n",
    "\n",
    "# d. Extend the list by adding [5566, 1830] to it\n",
    "ids.extend([5566, 1830])\n",
    "\n",
    "ids.reverse()\n",
    "\n",
    "\n",
    "ids.sort()\n",
    "\n",
    "print(ids)"
   ]
  },
  {
   "cell_type": "code",
   "execution_count": 11,
   "id": "24ead82a-4150-40b5-b6ba-068117cd63c2",
   "metadata": {},
   "outputs": [
    {
     "name": "stdout",
     "output_type": "stream",
     "text": [
      "Roll   Count      Percentage\n",
      "2      290        2.90%\n",
      "3      556        5.56%\n",
      "4      825        8.25%\n",
      "5      1098       10.98%\n",
      "6      1427       14.27%\n",
      "7      1671       16.71%\n",
      "8      1309       13.09%\n",
      "9      1140       11.40%\n",
      "10     859        8.59%\n",
      "11     554        5.54%\n",
      "12     271        2.71%\n"
     ]
    }
   ],
   "source": [
    "#Q 5\n",
    "import random\n",
    "outcomes = {i: 0 for i in range(2, 13)}\n",
    "\n",
    "num_rolls = 10000\n",
    "for _ in range(num_rolls):\n",
    "    die1 = random.randint(1, 6)\n",
    "    die2 = random.randint(1, 6)\n",
    "    roll_sum = die1 + die2\n",
    "    outcomes[roll_sum] += 1\n",
    "\n",
    "print(f\"{'Roll':<6} {'Count':<10} {'Percentage':<10}\")\n",
    "for roll in range(2, 13):\n",
    "    count = outcomes[roll]\n",
    "    percentage = (count / num_rolls) * 100\n",
    "    print(f\"{roll:<6} {count:<10} {percentage:.2f}%\")"
   ]
  },
  {
   "cell_type": "code",
   "execution_count": 13,
   "id": "95a323ac-e233-4af7-ac40-2ae33de74108",
   "metadata": {},
   "outputs": [
    {
     "name": "stdout",
     "output_type": "stream",
     "text": [
      "Mean: 49\n",
      "Median: 47\n",
      "Mode: 68\n"
     ]
    }
   ],
   "source": [
    "#Q 6\n",
    "import random\n",
    "from collections import Counter\n",
    "\n",
    "def mean(lst):\n",
    "    return sum(lst) // len(lst)\n",
    "\n",
    "def median(lst):\n",
    "    sorted_lst = sorted(lst)\n",
    "    n = len(sorted_lst)\n",
    "    mid = n // 2\n",
    "    if n % 2 == 0:\n",
    "        return (sorted_lst[mid - 1] + sorted_lst[mid]) // 2\n",
    "    else:\n",
    "        return sorted_lst[mid]\n",
    "\n",
    "def mode(lst):\n",
    "    count = Counter(lst)\n",
    "    max_count = max(count.values())\n",
    "    modes = [k for k, v in count.items() if v == max_count]\n",
    "    return modes[0]  \n",
    "\n",
    "random_list = [random.randint(1, 100) for _ in range(99)]\n",
    "\n",
    "list_mean = mean(random_list)\n",
    "list_median = median(random_list)\n",
    "list_mode = mode(random_list)\n",
    "\n",
    "# Print the results\n",
    "print(f\"Mean: {list_mean}\")\n",
    "print(f\"Median: {list_median}\")\n",
    "print(f\"Mode: {list_mode}\")"
   ]
  },
  {
   "cell_type": "code",
   "execution_count": 15,
   "id": "e1714fe5-69b7-45de-96cc-d85a17ac4738",
   "metadata": {},
   "outputs": [
    {
     "name": "stdout",
     "output_type": "stream",
     "text": [
      "Original list: [1, 2, 3, 4, 5]\n",
      "Rotated list: [5, 1, 2, 3, 4]\n"
     ]
    }
   ],
   "source": [
    "#Q 7\n",
    "def rotate_list(lst):\n",
    "    if len(lst) == 0:\n",
    "        return lst\n",
    "\n",
    "    last_element = lst.pop()\n",
    "    lst.insert(0, last_element)\n",
    "    return lst\n",
    "\n",
    "\n",
    "\n",
    "original_list = [1, 2, 3, 4, 5]\n",
    "rotated_list = rotate_list(original_list.copy())  # Use a copy to keep original_list unchanged\n",
    "\n",
    "print(\"Original list:\", original_list)\n",
    "print(\"Rotated list:\", rotated_list)"
   ]
  },
  {
   "cell_type": "code",
   "execution_count": 17,
   "id": "4baed1cb-904b-41d8-9ceb-6e578f01da98",
   "metadata": {},
   "outputs": [
    {
     "name": "stdout",
     "output_type": "stream",
     "text": [
      "Random list: [1, 1, 0, 0, 1, 1, 1, 0, 0, 0, 1, 0, 0, 1, 1, 0, 1, 0, 1, 1, 1, 0, 0, 1, 1, 0, 0, 1, 1, 1, 0, 0, 1, 1, 0, 0, 0, 1, 1, 1, 0, 1, 1, 1, 0, 0, 1, 0, 0, 1, 0, 1, 1, 0, 0, 1, 1, 0, 1, 1, 1, 0, 1, 0, 0, 0, 1, 1, 1, 1, 0, 1, 0, 1, 0, 1, 0, 1, 0, 0, 1, 0, 0, 1, 0, 1, 0, 0, 1, 1, 0, 0, 1, 1, 0, 1, 0, 0, 0, 1]\n",
      "Longest run of zeros: 3\n"
     ]
    }
   ],
   "source": [
    "#Q 8\n",
    "import random\n",
    "\n",
    "def longest_run_of_zeros(lst):\n",
    "    max_run = 0\n",
    "    current_run = 0\n",
    "    \n",
    "    for number in lst:\n",
    "        if number == 0:\n",
    "            current_run += 1\n",
    "            if current_run > max_run:\n",
    "                max_run = current_run\n",
    "        else:\n",
    "            current_run = 0\n",
    "    \n",
    "    return max_run\n",
    "\n",
    "random_list = [random.randint(0, 1) for _ in range(100)]\n",
    "\n",
    "longest_run = longest_run_of_zeros(random_list)\n",
    "\n",
    "print(\"Random list:\", random_list)\n",
    "print(\"Longest run of zeros:\", longest_run)"
   ]
  },
  {
   "cell_type": "code",
   "execution_count": 27,
   "id": "50ced524-d7f7-4907-bc40-e94393f591f6",
   "metadata": {},
   "outputs": [
    {
     "name": "stdin",
     "output_type": "stream",
     "text": [
      "Enter the size of the matrix:  2\n"
     ]
    },
    {
     "name": "stdout",
     "output_type": "stream",
     "text": [
      "Enter the matrix data row by row:\n"
     ]
    },
    {
     "name": "stdin",
     "output_type": "stream",
     "text": [
      " 1 2\n",
      " 3 4\n"
     ]
    },
    {
     "name": "stdout",
     "output_type": "stream",
     "text": [
      "\n",
      "Original Matrix:\n",
      "1 2\n",
      "3 4\n",
      "\n",
      "Transpose of Matrix:\n",
      "1 3\n",
      "2 4\n",
      "\n",
      "Product of Matrix and its Transpose:\n",
      "5 11\n",
      "11 25\n"
     ]
    }
   ],
   "source": [
    "#Q 9\n",
    "def read_matrix(size):\n",
    "    matrix = []\n",
    "    print(\"Enter the matrix data row by row:\")\n",
    "    for _ in range(size):\n",
    "        row = list(map(int, input().split()))\n",
    "        matrix.append(row)\n",
    "    return matrix\n",
    "\n",
    "def print_matrix(matrix):\n",
    "    for row in matrix:\n",
    "        print(' '.join(map(str, row)))\n",
    "\n",
    "def transpose(matrix):\n",
    "    return list(map(list, zip(*matrix)))\n",
    "\n",
    "def matrix_product(A, B):\n",
    "    size = len(A)\n",
    "    product = [[0] * size for _ in range(size)]\n",
    "    for i in range(size):\n",
    "        for j in range(size):\n",
    "            product[i][j] = sum(A[i][k] * B[k][j] for k in range(size))\n",
    "    return product\n",
    "\n",
    "size = int(input(\"Enter the size of the matrix: \"))\n",
    "\n",
    "matrix = read_matrix(size)\n",
    "\n",
    "matrix_transpose = transpose(matrix)\n",
    "\n",
    "matrix_product_result = matrix_product(matrix, matrix_transpose)\n",
    "\n",
    "print(\"\\nOriginal Matrix:\")\n",
    "print_matrix(matrix)\n",
    "\n",
    "print(\"\\nTranspose of Matrix:\")\n",
    "print_matrix(matrix_transpose)\n",
    "\n",
    "print(\"\\nProduct of Matrix and its Transpose:\")\n",
    "print_matrix(matrix_product_result)"
   ]
  },
  {
   "cell_type": "code",
   "execution_count": null,
   "id": "cff27590-60b2-49d9-81d2-73315894b2f3",
   "metadata": {},
   "outputs": [],
   "source": []
  }
 ],
 "metadata": {
  "kernelspec": {
   "display_name": "Python 3 (ipykernel)",
   "language": "python",
   "name": "python3"
  },
  "language_info": {
   "codemirror_mode": {
    "name": "ipython",
    "version": 3
   },
   "file_extension": ".py",
   "mimetype": "text/x-python",
   "name": "python",
   "nbconvert_exporter": "python",
   "pygments_lexer": "ipython3",
   "version": "3.11.7"
  }
 },
 "nbformat": 4,
 "nbformat_minor": 5
}
